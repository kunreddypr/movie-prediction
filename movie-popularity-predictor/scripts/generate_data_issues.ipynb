{
 "cells": [
  {
   "cell_type": "code",
   "execution_count": null,
   "id": "9809b263",
   "metadata": {},
   "outputs": [],
   "source": [
    "import pandas as pd\n",
    "import numpy as np\n",
    "\n",
    "df = pd.read_csv('../movies.csv')\n",
    "\n",
    "print(f\"Total records: {len(df)}\")\n",
    "print(\"\\n--- Missing Value Analysis ---\")\n",
    "print(df.isnull().sum())\n",
    "\n",
    "missing_overview = df[df['overview'].isnull()]\n",
    "print(f\"\\nMovies with missing overview: {len(missing_overview)}\")\n",
    "\n",
    "print(\"\\n--- Outlier Analysis for vote_count ---\")\n",
    "print(df['vote_count'].describe())\n",
    "low_vote_count = df[df['vote_count'] < 100]\n",
    "print(f\"Movies with < 100 votes: {len(low_vote_count)}\")\n",
    "\n",
    "print(\"\\n--- Duplicates Analysis ---\")\n",
    "print(f\"Number of duplicate IDs: {df.duplicated(subset=['id']).sum()}\")\n",
    "\n",
    "print(\"\\n--- Invalid Data Checks ---\")\n",
    "invalid_runtime = df[(df['runtime'] <= 0) | (df['runtime'].isnull())]\n",
    "print(f\"Movies with invalid runtime: {len(invalid_runtime)}\")\n",
    "\n",
    "invalid_release_date = df[df['release_date'].isnull()]\n",
    "print(f\"Movies with missing release date: {len(invalid_release_date)}\")\n",
    "\n",
    "future_dates = df[pd.to_datetime(df['release_date'], errors='coerce') > pd.Timestamp.today()]\n",
    "print(f\"Movies with future release dates: {len(future_dates)}\")\n",
    "\n",
    "invalid_popularity = df[df['popularity'] < 0]\n",
    "print(f\"Movies with negative popularity: {len(invalid_popularity)}\")\n",
    "\n",
    "print(\"\\n--- Rating Analysis ---\")\n",
    "print(df['vote_average'].describe())\n",
    "invalid_rating = df[(df['vote_average'] < 0) | (df['vote_average'] > 10)]\n",
    "print(f\"Movies with invalid rating values: {len(invalid_rating)}\")\n",
    "\n",
    "print(\"\\n--- Genre Analysis ---\")\n",
    "missing_genre = df[df['genres'].isnull()]\n",
    "print(f\"Movies with missing genres: {len(missing_genre)}\")\n",
    "\n",
    "print(\"\\n--- Language Distribution ---\")\n",
    "print(df['original_language'].value_counts())\n",
    "\n",
    "print(\"\\n--- Yearly Release Distribution ---\")\n",
    "df['release_year'] = pd.to_datetime(df['release_date'], errors='coerce').dt.year\n",
    "print(df['release_year'].value_counts().sort_index())\n"
   ]
  }
 ],
 "metadata": {
  "language_info": {
   "name": "python"
  }
 },
 "nbformat": 4,
 "nbformat_minor": 5
}
